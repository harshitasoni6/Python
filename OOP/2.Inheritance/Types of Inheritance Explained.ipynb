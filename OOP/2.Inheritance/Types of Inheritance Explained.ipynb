{
 "cells": [
  {
   "cell_type": "markdown",
   "metadata": {},
   "source": [
    "# Understanding Inheritance in Python\n",
    "\n",
    "Inheritance is a fundamental concept in object-oriented programming where one class (child or derived class) inherits attributes and methods from another class (parent or base class). This allows for code reuse and establishes a relationship between classes."
   ]
  },
  {
   "cell_type": "markdown",
   "metadata": {},
   "source": [
    "## 1. Single Inheritance\n",
    "\n",
    "In single inheritance, a child class inherits from a single parent class. This is the simplest form of inheritance."
   ]
  },
  {
   "cell_type": "code",
   "execution_count": 2,
   "metadata": {},
   "outputs": [
    {
     "name": "stdout",
     "output_type": "stream",
     "text": [
      "Name: John, Age: 50\n",
      "Occupation: Engineer\n",
      "Father speaks carefully.\n"
     ]
    }
   ],
   "source": [
    "# Single Inheritance Example\n",
    "\n",
    "class Grandfather:\n",
    "    def __init__(self, name, age):\n",
    "        self.name = name\n",
    "        self.age = age\n",
    "        \n",
    "    def show_details(self):\n",
    "        return f'Name: {self.name}, Age: {self.age}'\n",
    "        \n",
    "    def speak(self):\n",
    "        return 'Grandfather speaks wisely.'\n",
    "\n",
    "class Father(Grandfather):\n",
    "    def __init__(self, name, age, occupation):\n",
    "        super().__init__(name, age)\n",
    "        self.occupation = occupation\n",
    "        \n",
    "    def show_occupation(self):\n",
    "        return f'Occupation: {self.occupation}'\n",
    "    \n",
    "    def speak(self):\n",
    "        return 'Father speaks carefully.'\n",
    "\n",
    "# Creating an object of the Father class\n",
    "father_obj = Father('John', 50, 'Engineer')\n",
    "print(father_obj.show_details())\n",
    "print(father_obj.show_occupation())\n",
    "print(father_obj.speak())"
   ]
  },
  {
   "cell_type": "markdown",
   "metadata": {},
   "source": [
    "## 2. Hierarchical Inheritance\n",
    "\n",
    "In hierarchical inheritance, multiple child classes inherit from a single parent class."
   ]
  },
  {
   "cell_type": "code",
   "execution_count": 3,
   "metadata": {},
   "outputs": [
    {
     "name": "stdout",
     "output_type": "stream",
     "text": [
      "Name: Alice, Age: 20\n",
      "Hobby: Painting\n",
      "Child1 speaks enthusiastically.\n",
      "Name: Bob, Age: 22\n",
      "Favorite Subject: Mathematics\n",
      "Child2 speaks thoughtfully.\n"
     ]
    }
   ],
   "source": [
    "# Hierarchical Inheritance Example\n",
    "\n",
    "class Grandfather:\n",
    "    def __init__(self, name, age):\n",
    "        self.name = name\n",
    "        self.age = age\n",
    "        \n",
    "    def show_details(self):\n",
    "        return f'Name: {self.name}, Age: {self.age}'\n",
    "        \n",
    "    def speak(self):\n",
    "        return 'Grandfather speaks wisely.'\n",
    "\n",
    "class Child1(Grandfather):\n",
    "    def __init__(self, name, age, hobby):\n",
    "        super().__init__(name, age)\n",
    "        self.hobby = hobby\n",
    "        \n",
    "    def show_hobby(self):\n",
    "        return f'Hobby: {self.hobby}'\n",
    "    \n",
    "    def speak(self):\n",
    "        return 'Child1 speaks enthusiastically.'\n",
    "\n",
    "class Child2(Grandfather):\n",
    "    def __init__(self, name, age, favorite_subject):\n",
    "        super().__init__(name, age)\n",
    "        self.favorite_subject = favorite_subject\n",
    "        \n",
    "    def show_favorite_subject(self):\n",
    "        return f'Favorite Subject: {self.favorite_subject}'\n",
    "    \n",
    "    def speak(self):\n",
    "        return 'Child2 speaks thoughtfully.'\n",
    "\n",
    "# Creating objects of Child1 and Child2 classes\n",
    "child1_obj = Child1('Alice', 20, 'Painting')\n",
    "child2_obj = Child2('Bob', 22, 'Mathematics')\n",
    "print(child1_obj.show_details())\n",
    "print(child1_obj.show_hobby())\n",
    "print(child1_obj.speak())\n",
    "\n",
    "print(child2_obj.show_details())\n",
    "print(child2_obj.show_favorite_subject())\n",
    "print(child2_obj.speak())"
   ]
  },
  {
   "cell_type": "markdown",
   "metadata": {},
   "source": [
    "## 3. Multilevel Inheritance\n",
    "\n",
    "In multilevel inheritance, a child class inherits from a parent class, which in turn inherits from another parent class."
   ]
  },
  {
   "cell_type": "code",
   "execution_count": null,
   "metadata": {},
   "outputs": [],
   "source": [
    "# Multilevel Inheritance Example\n",
    "\n",
    "class Grandfather:\n",
    "    def __init__(self, name, age):\n",
    "        self.name = name\n",
    "        self.age = age\n",
    "        \n",
    "    def show_details(self):\n",
    "        return f'Name: {self.name}, Age: {self.age}'\n",
    "        \n",
    "    def speak(self):\n",
    "        return 'Grandfather speaks wisely.'\n",
    "\n",
    "class Father(Grandfather):\n",
    "    def __init__(self, name, age, occupation):\n",
    "        super().__init__(name, age)\n",
    "        self.occupation = occupation\n",
    "        \n",
    "    def show_occupation(self):\n",
    "        return f'Occupation: {self.occupation}'\n",
    "    \n",
    "    def speak(self):\n",
    "        return 'Father speaks carefully.'\n",
    "\n",
    "class Child(Father):\n",
    "    def __init__(self, name, age, hobby):\n",
    "        super().__init__(name, age, 'Engineer')\n",
    "        self.hobby = hobby\n",
    "        \n",
    "    def show_hobby(self):\n",
    "        return f'Hobby: {self.hobby}'\n",
    "    \n",
    "    def speak(self):\n",
    "        return 'Child speaks excitedly.'\n",
    "\n",
    "# Creating an object of the Child class\n",
    "child_obj = Child('Charlie', 18, 'Cycling')\n",
    "child_obj.show_details()\n",
    "child_obj.show_occupation()\n",
    "child_obj.show_hobby()\n",
    "child_obj.speak()"
   ]
  },
  {
   "cell_type": "markdown",
   "metadata": {},
   "source": [
    "## 4. Multiple Inheritance\n",
    "\n",
    "In multiple inheritance, a child class inherits from more than one parent class."
   ]
  },
  {
   "cell_type": "code",
   "execution_count": 14,
   "metadata": {},
   "outputs": [
    {
     "name": "stdout",
     "output_type": "stream",
     "text": [
      "Name: Daisy, Age: 16\n",
      "Favorite Food: Pizza\n",
      "Hobby: Dancing\n",
      "Father speaks carefully.\n"
     ]
    },
    {
     "data": {
      "text/plain": [
       "[__main__.Child, __main__.Father, __main__.Mother, object]"
      ]
     },
     "execution_count": 14,
     "metadata": {},
     "output_type": "execute_result"
    }
   ],
   "source": [
    "# Multiple Inheritance Example\n",
    "\n",
    "class Father:\n",
    "    def __init__(self, name, age):\n",
    "        self.name = name\n",
    "        self.age = age\n",
    "        \n",
    "    def show_details(self):\n",
    "        return f'Name: {self.name}, Age: {self.age}'\n",
    "        \n",
    "    def speak(self):\n",
    "        return 'Father speaks carefully.'\n",
    "\n",
    "class Mother:\n",
    "    def __init__(self, name, favorite_food):\n",
    "        self.name = name\n",
    "        self.favorite_food = favorite_food\n",
    "        \n",
    "    def show_favorite_food(self):\n",
    "        return f'Favorite Food: {self.favorite_food}'\n",
    "        \n",
    "    def speak(self):\n",
    "        return 'Mother speaks lovingly.'\n",
    "\n",
    "class Child(Father, Mother):\n",
    "    def __init__(self, name, age, favorite_food, hobby):\n",
    "        Father.__init__(self, name, age)\n",
    "        Mother.__init__(self, name, favorite_food)\n",
    "        self.hobby = hobby\n",
    "        \n",
    "    def show_hobby(self):\n",
    "        return f'Hobby: {self.hobby}'\n",
    "    \n",
    "    # def speak(self):\n",
    "    #     return 'Child speaks excitedly.'\n",
    "    # Let say if child don't have this method and\n",
    "    # both parent speak() method then this will \n",
    "    # create ambiguity in  other language \n",
    "    # be in python multiple inhertance is supported \n",
    "    # when speak() it go to first parent mean inside\n",
    "    # bracket whichever is first. So , here it will \n",
    "    # go to father speak()\n",
    "\n",
    "# Creating an object of the Child class\n",
    "child_obj = Child('Daisy', 16, 'Pizza', 'Dancing')\n",
    "print(child_obj.show_details())\n",
    "print(child_obj.show_favorite_food())\n",
    "print(child_obj.show_hobby())\n",
    "print(child_obj.speak())\n",
    "Child.mro()"
   ]
  },
  {
   "cell_type": "markdown",
   "metadata": {},
   "source": [
    "## 5. Hybrid Inheritance\n",
    "\n",
    "Hybrid inheritance is a combination of two or more types of inheritance. It allows for complex relationships between classes."
   ]
  },
  {
   "cell_type": "code",
   "execution_count": 15,
   "metadata": {},
   "outputs": [
    {
     "name": "stdout",
     "output_type": "stream",
     "text": [
      "Name: Eve, Age: 15\n",
      "Favorite Food: Pasta\n",
      "Occupation: Engineer\n",
      "Hobby: Reading\n",
      "Grandfather speaks wisely.\n"
     ]
    }
   ],
   "source": [
    "# Hybrid Inheritance Example\n",
    "\n",
    "class Grandfather:\n",
    "    def __init__(self, name, age):\n",
    "        self.name = name\n",
    "        self.age = age\n",
    "        \n",
    "    def show_details(self):\n",
    "        return f'Name: {self.name}, Age: {self.age}'\n",
    "        \n",
    "    def speak(self):\n",
    "        return 'Grandfather speaks wisely.'\n",
    "\n",
    "class Father(Grandfather):\n",
    "    def __init__(self, name, age, occupation):\n",
    "        super().__init__(name, age)\n",
    "        self.occupation = occupation\n",
    "        \n",
    "    def show_occupation(self):\n",
    "        return f'Occupation: {self.occupation}'\n",
    "    \n",
    "    # def speak(self):\n",
    "    #     return 'Father speaks carefully.'\n",
    "\n",
    "class Mother:\n",
    "    def __init__(self, name, favorite_food):\n",
    "        self.name = name\n",
    "        self.favorite_food = favorite_food\n",
    "        \n",
    "    def show_favorite_food(self):\n",
    "        return f'Favorite Food: {self.favorite_food}'\n",
    "        \n",
    "    def speak(self):\n",
    "        return 'Mother speaks lovingly.'\n",
    "\n",
    "class Child(Father, Mother):\n",
    "    def __init__(self, name, age, favorite_food, hobby):\n",
    "        Father.__init__(self, name, age, 'Engineer')\n",
    "        Mother.__init__(self, name, favorite_food)\n",
    "        self.hobby = hobby\n",
    "        \n",
    "    def show_hobby(self):\n",
    "        return f'Hobby: {self.hobby}'\n",
    "    \n",
    "    # def speak(self):\n",
    "    #     return 'Child speaks excitedly.'\n",
    "\n",
    "# Creating an object of the Child class\n",
    "child_obj = Child('Eve', 15, 'Pasta', 'Reading')\n",
    "print(child_obj.show_details())\n",
    "print(child_obj.show_favorite_food())\n",
    "print(child_obj.show_occupation())\n",
    "print(child_obj.show_hobby())\n",
    "print(child_obj.speak())"
   ]
  }
 ],
 "metadata": {
  "kernelspec": {
   "display_name": "Python 3",
   "language": "python",
   "name": "python3"
  },
  "language_info": {
   "codemirror_mode": {
    "name": "ipython",
    "version": 3
   },
   "file_extension": ".py",
   "mimetype": "text/x-python",
   "name": "python",
   "nbconvert_exporter": "python",
   "pygments_lexer": "ipython3",
   "version": "3.13.0"
  }
 },
 "nbformat": 4,
 "nbformat_minor": 4
}
